{
 "cells": [
  {
   "cell_type": "markdown",
   "metadata": {},
   "source": [
    "# what is text summarization\n",
    "it is a process of distikking the mowt important information from source text"
   ]
  },
  {
   "cell_type": "markdown",
   "metadata": {},
   "source": [
    "# Importance of automatic text summarization\n",
    "\n",
    "why automatic text summarization\n",
    "\n",
    "summaries reduce reading time\n",
    "\n",
    "When researching documents, summaries make the selection process easier.\n",
    "\n",
    "Improves the effectivesness of indexing\n",
    "\n",
    "This is less biased than human summarizers\n",
    "\n",
    "Prsonalized summaries are useful in question-answering sustems as they provide personalized information\n",
    "\n",
    "Using automatic or semi-automatic summarization systems enables commercial abstract services to - increase the number of text documents they are able to process.\n"
   ]
  },
  {
   "cell_type": "markdown",
   "metadata": {},
   "source": [
    "# Important Steps in Text summarization\n",
    "# text cleaning\n",
    "# sentence tokenization\n",
    "# word tokenization\n",
    "# worid-frequency table\n",
    "# summarization"
   ]
  },
  {
   "cell_type": "code",
   "execution_count": 1,
   "metadata": {},
   "outputs": [
    {
     "name": "stdout",
     "output_type": "stream",
     "text": [
      "Collecting spacy\n",
      "  Downloading spacy-2.3.2-cp37-cp37m-win_amd64.whl (9.3 MB)\n",
      "Requirement already satisfied, skipping upgrade: catalogue<1.1.0,>=0.0.7 in c:\\users\\asha.ponnada\\appdata\\local\\programs\\python\\python37\\lib\\site-packages (from spacy) (1.0.0)\n",
      "Collecting srsly<1.1.0,>=1.0.2\n",
      "  Downloading srsly-1.0.2-cp37-cp37m-win_amd64.whl (179 kB)\n",
      "Requirement already satisfied, skipping upgrade: plac<1.2.0,>=0.9.6 in c:\\users\\asha.ponnada\\appdata\\local\\programs\\python\\python37\\lib\\site-packages (from spacy) (1.1.3)\n",
      "Requirement already satisfied, skipping upgrade: preshed<3.1.0,>=3.0.2 in c:\\users\\asha.ponnada\\appdata\\local\\programs\\python\\python37\\lib\\site-packages (from spacy) (3.0.2)\n",
      "Requirement already satisfied, skipping upgrade: murmurhash<1.1.0,>=0.28.0 in c:\\users\\asha.ponnada\\appdata\\local\\programs\\python\\python37\\lib\\site-packages (from spacy) (1.0.2)\n",
      "Requirement already satisfied, skipping upgrade: cymem<2.1.0,>=2.0.2 in c:\\users\\asha.ponnada\\appdata\\local\\programs\\python\\python37\\lib\\site-packages (from spacy) (2.0.3)\n",
      "Requirement already satisfied, skipping upgrade: requests<3.0.0,>=2.13.0 in c:\\users\\asha.ponnada\\appdata\\local\\programs\\python\\python37\\lib\\site-packages (from spacy) (2.22.0)\n",
      "Requirement already satisfied, skipping upgrade: setuptools in c:\\users\\asha.ponnada\\appdata\\local\\programs\\python\\python37\\lib\\site-packages (from spacy) (44.0.0)\n",
      "Requirement already satisfied, skipping upgrade: blis<0.5.0,>=0.4.0 in c:\\users\\asha.ponnada\\appdata\\local\\programs\\python\\python37\\lib\\site-packages (from spacy) (0.4.1)\n",
      "Collecting tqdm<5.0.0,>=4.38.0\n",
      "  Downloading tqdm-4.48.0-py2.py3-none-any.whl (67 kB)\n",
      "Requirement already satisfied, skipping upgrade: numpy>=1.15.0 in c:\\users\\asha.ponnada\\appdata\\local\\programs\\python\\python37\\lib\\site-packages (from spacy) (1.17.4)\n",
      "Requirement already satisfied, skipping upgrade: wasabi<1.1.0,>=0.4.0 in c:\\users\\asha.ponnada\\appdata\\local\\programs\\python\\python37\\lib\\site-packages (from spacy) (0.6.0)\n",
      "Collecting thinc==7.4.1\n",
      "  Downloading thinc-7.4.1-cp37-cp37m-win_amd64.whl (2.0 MB)\n",
      "Requirement already satisfied, skipping upgrade: importlib-metadata>=0.20; python_version < \"3.8\" in c:\\users\\asha.ponnada\\appdata\\local\\programs\\python\\python37\\lib\\site-packages (from catalogue<1.1.0,>=0.0.7->spacy) (1.3.0)\n",
      "Requirement already satisfied, skipping upgrade: urllib3!=1.25.0,!=1.25.1,<1.26,>=1.21.1 in c:\\users\\asha.ponnada\\appdata\\local\\programs\\python\\python37\\lib\\site-packages (from requests<3.0.0,>=2.13.0->spacy) (1.24.1)\n",
      "Requirement already satisfied, skipping upgrade: chardet<3.1.0,>=3.0.2 in c:\\users\\asha.ponnada\\appdata\\local\\programs\\python\\python37\\lib\\site-packages (from requests<3.0.0,>=2.13.0->spacy) (3.0.4)\n",
      "Requirement already satisfied, skipping upgrade: certifi>=2017.4.17 in c:\\users\\asha.ponnada\\appdata\\local\\programs\\python\\python37\\lib\\site-packages (from requests<3.0.0,>=2.13.0->spacy) (2018.11.29)\n",
      "Requirement already satisfied, skipping upgrade: idna<2.9,>=2.5 in c:\\users\\asha.ponnada\\appdata\\local\\programs\\python\\python37\\lib\\site-packages (from requests<3.0.0,>=2.13.0->spacy) (2.7)\n",
      "Requirement already satisfied, skipping upgrade: zipp>=0.5 in c:\\users\\asha.ponnada\\appdata\\local\\programs\\python\\python37\\lib\\site-packages (from importlib-metadata>=0.20; python_version < \"3.8\"->catalogue<1.1.0,>=0.0.7->spacy) (0.5.1)\n",
      "Installing collected packages: srsly, tqdm, thinc, spacy\n",
      "  Attempting uninstall: srsly\n",
      "    Found existing installation: srsly 1.0.1\n",
      "    Uninstalling srsly-1.0.1:\n",
      "      Successfully uninstalled srsly-1.0.1\n",
      "  Attempting uninstall: tqdm\n",
      "    Found existing installation: tqdm 4.11.2\n",
      "    Uninstalling tqdm-4.11.2:\n",
      "      Successfully uninstalled tqdm-4.11.2\n",
      "  Attempting uninstall: thinc\n",
      "    Found existing installation: thinc 7.3.1\n",
      "    Uninstalling thinc-7.3.1:\n",
      "      Successfully uninstalled thinc-7.3.1\n",
      "  Attempting uninstall: spacy\n",
      "    Found existing installation: spacy 2.2.3\n",
      "    Uninstalling spacy-2.2.3:\n",
      "      Successfully uninstalled spacy-2.2.3\n",
      "Successfully installed spacy-2.3.2 srsly-1.0.2 thinc-7.4.1 tqdm-4.48.0\n",
      "Collecting en_core_web_sm==2.3.1\n",
      "  Downloading https://github.com/explosion/spacy-models/releases/download/en_core_web_sm-2.3.1/en_core_web_sm-2.3.1.tar.gz (12.0 MB)\n",
      "Requirement already satisfied: spacy<2.4.0,>=2.3.0 in c:\\users\\asha.ponnada\\appdata\\local\\programs\\python\\python37\\lib\\site-packages (from en_core_web_sm==2.3.1) (2.3.2)\n",
      "Requirement already satisfied: plac<1.2.0,>=0.9.6 in c:\\users\\asha.ponnada\\appdata\\local\\programs\\python\\python37\\lib\\site-packages (from spacy<2.4.0,>=2.3.0->en_core_web_sm==2.3.1) (1.1.3)\n",
      "Requirement already satisfied: blis<0.5.0,>=0.4.0 in c:\\users\\asha.ponnada\\appdata\\local\\programs\\python\\python37\\lib\\site-packages (from spacy<2.4.0,>=2.3.0->en_core_web_sm==2.3.1) (0.4.1)\n",
      "Requirement already satisfied: murmurhash<1.1.0,>=0.28.0 in c:\\users\\asha.ponnada\\appdata\\local\\programs\\python\\python37\\lib\\site-packages (from spacy<2.4.0,>=2.3.0->en_core_web_sm==2.3.1) (1.0.2)\n",
      "Requirement already satisfied: requests<3.0.0,>=2.13.0 in c:\\users\\asha.ponnada\\appdata\\local\\programs\\python\\python37\\lib\\site-packages (from spacy<2.4.0,>=2.3.0->en_core_web_sm==2.3.1) (2.22.0)\n",
      "Requirement already satisfied: preshed<3.1.0,>=3.0.2 in c:\\users\\asha.ponnada\\appdata\\local\\programs\\python\\python37\\lib\\site-packages (from spacy<2.4.0,>=2.3.0->en_core_web_sm==2.3.1) (3.0.2)\n",
      "Requirement already satisfied: srsly<1.1.0,>=1.0.2 in c:\\users\\asha.ponnada\\appdata\\local\\programs\\python\\python37\\lib\\site-packages (from spacy<2.4.0,>=2.3.0->en_core_web_sm==2.3.1) (1.0.2)\n",
      "Requirement already satisfied: catalogue<1.1.0,>=0.0.7 in c:\\users\\asha.ponnada\\appdata\\local\\programs\\python\\python37\\lib\\site-packages (from spacy<2.4.0,>=2.3.0->en_core_web_sm==2.3.1) (1.0.0)\n",
      "Requirement already satisfied: tqdm<5.0.0,>=4.38.0 in c:\\users\\asha.ponnada\\appdata\\local\\programs\\python\\python37\\lib\\site-packages (from spacy<2.4.0,>=2.3.0->en_core_web_sm==2.3.1) (4.48.0)\n",
      "Requirement already satisfied: setuptools in c:\\users\\asha.ponnada\\appdata\\local\\programs\\python\\python37\\lib\\site-packages (from spacy<2.4.0,>=2.3.0->en_core_web_sm==2.3.1) (44.0.0)\n",
      "Requirement already satisfied: thinc==7.4.1 in c:\\users\\asha.ponnada\\appdata\\local\\programs\\python\\python37\\lib\\site-packages (from spacy<2.4.0,>=2.3.0->en_core_web_sm==2.3.1) (7.4.1)\n",
      "Requirement already satisfied: numpy>=1.15.0 in c:\\users\\asha.ponnada\\appdata\\local\\programs\\python\\python37\\lib\\site-packages (from spacy<2.4.0,>=2.3.0->en_core_web_sm==2.3.1) (1.17.4)\n",
      "Requirement already satisfied: wasabi<1.1.0,>=0.4.0 in c:\\users\\asha.ponnada\\appdata\\local\\programs\\python\\python37\\lib\\site-packages (from spacy<2.4.0,>=2.3.0->en_core_web_sm==2.3.1) (0.6.0)\n",
      "Requirement already satisfied: cymem<2.1.0,>=2.0.2 in c:\\users\\asha.ponnada\\appdata\\local\\programs\\python\\python37\\lib\\site-packages (from spacy<2.4.0,>=2.3.0->en_core_web_sm==2.3.1) (2.0.3)\n",
      "Requirement already satisfied: chardet<3.1.0,>=3.0.2 in c:\\users\\asha.ponnada\\appdata\\local\\programs\\python\\python37\\lib\\site-packages (from requests<3.0.0,>=2.13.0->spacy<2.4.0,>=2.3.0->en_core_web_sm==2.3.1) (3.0.4)\n",
      "Requirement already satisfied: certifi>=2017.4.17 in c:\\users\\asha.ponnada\\appdata\\local\\programs\\python\\python37\\lib\\site-packages (from requests<3.0.0,>=2.13.0->spacy<2.4.0,>=2.3.0->en_core_web_sm==2.3.1) (2018.11.29)\n",
      "Requirement already satisfied: urllib3!=1.25.0,!=1.25.1,<1.26,>=1.21.1 in c:\\users\\asha.ponnada\\appdata\\local\\programs\\python\\python37\\lib\\site-packages (from requests<3.0.0,>=2.13.0->spacy<2.4.0,>=2.3.0->en_core_web_sm==2.3.1) (1.24.1)\n",
      "Requirement already satisfied: idna<2.9,>=2.5 in c:\\users\\asha.ponnada\\appdata\\local\\programs\\python\\python37\\lib\\site-packages (from requests<3.0.0,>=2.13.0->spacy<2.4.0,>=2.3.0->en_core_web_sm==2.3.1) (2.7)\n",
      "Requirement already satisfied: importlib-metadata>=0.20; python_version < \"3.8\" in c:\\users\\asha.ponnada\\appdata\\local\\programs\\python\\python37\\lib\\site-packages (from catalogue<1.1.0,>=0.0.7->spacy<2.4.0,>=2.3.0->en_core_web_sm==2.3.1) (1.3.0)\n",
      "Requirement already satisfied: zipp>=0.5 in c:\\users\\asha.ponnada\\appdata\\local\\programs\\python\\python37\\lib\\site-packages (from importlib-metadata>=0.20; python_version < \"3.8\"->catalogue<1.1.0,>=0.0.7->spacy<2.4.0,>=2.3.0->en_core_web_sm==2.3.1) (0.5.1)\n",
      "Building wheels for collected packages: en-core-web-sm\n",
      "  Building wheel for en-core-web-sm (setup.py): started\n",
      "  Building wheel for en-core-web-sm (setup.py): finished with status 'done'\n",
      "  Created wheel for en-core-web-sm: filename=en_core_web_sm-2.3.1-py3-none-any.whl size=12047114 sha256=45a59c3e9bc8bf46da6a4d3d124dd5bf00d2ccc2ecb7f1fe187d46c58445c60f\n",
      "  Stored in directory: C:\\Users\\ASHA~1.PON\\AppData\\Local\\Temp\\pip-ephem-wheel-cache-fk4q49dn\\wheels\\b7\\0d\\f0\\7ecae8427c515065d75410989e15e5785dd3975fe06e795cd9\n",
      "Successfully built en-core-web-sm\n",
      "Installing collected packages: en-core-web-sm\n",
      "  Attempting uninstall: en-core-web-sm\n",
      "    Found existing installation: en-core-web-sm 2.2.5\n",
      "    Uninstalling en-core-web-sm-2.2.5:\n",
      "      Successfully uninstalled en-core-web-sm-2.2.5\n",
      "Successfully installed en-core-web-sm-2.3.1\n",
      "[+] Download and installation successful\n",
      "You can now load the model via spacy.load('en_core_web_sm')\n"
     ]
    }
   ],
   "source": [
    "# Download important libraries\n",
    "!pip install -U spacy\n",
    "!python -m spacy download en_core_web_sm\n",
    "\n",
    "import spacy\n",
    "from spacy.lang.en.stop_words import STOP_WORDS\n",
    "from string import punctuation\n"
   ]
  },
  {
   "cell_type": "code",
   "execution_count": null,
   "metadata": {},
   "outputs": [],
   "source": [
    "# Taking text for summarization"
   ]
  },
  {
   "cell_type": "code",
   "execution_count": 29,
   "metadata": {},
   "outputs": [],
   "source": [
    "text = '''Analytical marketing: How Turkcell reduced their sales cycle from weeks to days\n",
    "There are an enormous number of solutions telecommunications companies can provide, but most customers are only interested in a select few. Analytical marketing is the practice of using customer data to identify which consumers will most likely benefit from which products. This involves using consumer information to create microsegments, or personas that describe smaller sets of customers rather than large, big-picture details. It also includes detecting specific behaviors that prompt a new product offer, such as suggesting an international data plan to a customer who frequently sends texts to friends in other countries.\n",
    "\n",
    "The first step in leveraging analytical marketing is to gather data. Companies need to strike a balance between obtaining high-quality, comprehensive information and maintaining trust with the consumer.\n",
    "\n",
    "With the increasing capabilities for data mining, consumers have become protective of their personal information. Shady practices like obtaining and using data without notifying the customer, or selling and buying information from third-party sources have left consumers scarred and wary.\n",
    "\n",
    "Ironically, consumers also become frustrated when they perceive companies to not have a good understanding of their needs or offer random products rather than relevant ones. This complex dynamic means telecom businesses must gather high-quality information, but use it in a responsible, transparent way.\n",
    "\n",
    "A 2011 marketing campaign completed by Turkcell, an Istanbul-based cellphone provider, demonstrated the successful use of consumer data. The company began reviewing customer data in real time, allowing them to better identify individuals’ needs at that time. As a result, they were able to shorten their marketing cycle from several weeks to several days and increase revenue by $15 million that year, according to a Strategy& report from PwC.'''\n",
    "\n"
   ]
  },
  {
   "cell_type": "code",
   "execution_count": 30,
   "metadata": {},
   "outputs": [
    {
     "data": {
      "text/plain": [
       "['along',\n",
       " 'indeed',\n",
       " 'twelve',\n",
       " 're',\n",
       " 'beside',\n",
       " 'do',\n",
       " 'last',\n",
       " 'whence',\n",
       " 'six',\n",
       " 'such',\n",
       " 'each',\n",
       " 'nine',\n",
       " 'does',\n",
       " '’re',\n",
       " 'its',\n",
       " 'afterwards',\n",
       " 'fifteen',\n",
       " 'n’t',\n",
       " 'either',\n",
       " 'always',\n",
       " 'would',\n",
       " 'hereupon',\n",
       " 'throughout',\n",
       " 'into',\n",
       " 'anywhere',\n",
       " 'might',\n",
       " 'move',\n",
       " 'already',\n",
       " 'on',\n",
       " 'every',\n",
       " 'your',\n",
       " 'rather',\n",
       " 'eight',\n",
       " 'own',\n",
       " 'yours',\n",
       " 'upon',\n",
       " 'is',\n",
       " 'front',\n",
       " 'of',\n",
       " 'being',\n",
       " 'bottom',\n",
       " 'other',\n",
       " 'hundred',\n",
       " 'even',\n",
       " 'hereafter',\n",
       " 'somewhere',\n",
       " 'so',\n",
       " 'full',\n",
       " 'whether',\n",
       " 'he',\n",
       " 'be',\n",
       " 'seem',\n",
       " 'moreover',\n",
       " 'around',\n",
       " 'hereby',\n",
       " 'via',\n",
       " 'whom',\n",
       " 'his',\n",
       " 'amongst',\n",
       " 'three',\n",
       " 'over',\n",
       " 'any',\n",
       " 'can',\n",
       " 'if',\n",
       " 'see',\n",
       " 'should',\n",
       " 'now',\n",
       " 'namely',\n",
       " 'mostly',\n",
       " '’d',\n",
       " 'hers',\n",
       " 'unless',\n",
       " 'seems',\n",
       " '’ll',\n",
       " 'they',\n",
       " 'call',\n",
       " 'twenty',\n",
       " 'nowhere',\n",
       " 'although',\n",
       " 'there',\n",
       " '‘ll',\n",
       " 'becomes',\n",
       " 'have',\n",
       " 'nevertheless',\n",
       " 'within',\n",
       " 'then',\n",
       " 'some',\n",
       " 'hence',\n",
       " 'i',\n",
       " 'no',\n",
       " 'whereas',\n",
       " 'must',\n",
       " 'she',\n",
       " 'almost',\n",
       " 'them',\n",
       " 'became',\n",
       " 'latter',\n",
       " 'had',\n",
       " 'has',\n",
       " 'our',\n",
       " 'wherein',\n",
       " 'keep',\n",
       " 'or',\n",
       " 'several',\n",
       " 'n‘t',\n",
       " 'was',\n",
       " 'you',\n",
       " 'toward',\n",
       " 'say',\n",
       " 'quite',\n",
       " 'really',\n",
       " 'too',\n",
       " 'yourself',\n",
       " 'we',\n",
       " 'but',\n",
       " 'forty',\n",
       " 'during',\n",
       " 'meanwhile',\n",
       " 'most',\n",
       " 'serious',\n",
       " 'yourselves',\n",
       " 'side',\n",
       " 'amount',\n",
       " 'by',\n",
       " 'take',\n",
       " 'therefore',\n",
       " 'these',\n",
       " 'give',\n",
       " 'only',\n",
       " 'please',\n",
       " 'else',\n",
       " 'many',\n",
       " 'everything',\n",
       " 'none',\n",
       " 'whither',\n",
       " 'at',\n",
       " 'may',\n",
       " 'thus',\n",
       " 'which',\n",
       " 'per',\n",
       " 'elsewhere',\n",
       " 'empty',\n",
       " 'part',\n",
       " '’m',\n",
       " 'an',\n",
       " 'sixty',\n",
       " 'from',\n",
       " 'five',\n",
       " 'will',\n",
       " 'nor',\n",
       " 'doing',\n",
       " 'make',\n",
       " 'nothing',\n",
       " 'across',\n",
       " 'least',\n",
       " '‘d',\n",
       " 'same',\n",
       " 'after',\n",
       " 'it',\n",
       " 'using',\n",
       " 'latterly',\n",
       " 'mine',\n",
       " 'used',\n",
       " 'were',\n",
       " 'others',\n",
       " 'cannot',\n",
       " 'whoever',\n",
       " 'just',\n",
       " 'ca',\n",
       " 'themselves',\n",
       " 'did',\n",
       " 'onto',\n",
       " 'thence',\n",
       " 'ourselves',\n",
       " 'another',\n",
       " 'everywhere',\n",
       " 'when',\n",
       " 'ten',\n",
       " 'without',\n",
       " 'as',\n",
       " 'made',\n",
       " 'back',\n",
       " 'under',\n",
       " 'next',\n",
       " 'with',\n",
       " '’s',\n",
       " 'about',\n",
       " 'perhaps',\n",
       " 'because',\n",
       " 'few',\n",
       " 'through',\n",
       " 'both',\n",
       " 'though',\n",
       " 'name',\n",
       " 'enough',\n",
       " 'myself',\n",
       " \"'s\",\n",
       " 'anyhow',\n",
       " 'done',\n",
       " 'something',\n",
       " 'whereby',\n",
       " '‘re',\n",
       " 'otherwise',\n",
       " 'am',\n",
       " 'top',\n",
       " '’ve',\n",
       " 'below',\n",
       " 'thru',\n",
       " 'wherever',\n",
       " 'beforehand',\n",
       " 'how',\n",
       " \"'ve\",\n",
       " 'for',\n",
       " 'up',\n",
       " 'much',\n",
       " 'noone',\n",
       " 'herself',\n",
       " 'yet',\n",
       " 'becoming',\n",
       " 'show',\n",
       " 'more',\n",
       " 'are',\n",
       " 'and',\n",
       " 'off',\n",
       " 'everyone',\n",
       " 'out',\n",
       " 'whose',\n",
       " 'often',\n",
       " 'that',\n",
       " 'a',\n",
       " 'besides',\n",
       " 'regarding',\n",
       " 'together',\n",
       " 'thereupon',\n",
       " 'him',\n",
       " 'against',\n",
       " 'however',\n",
       " 'further',\n",
       " 'among',\n",
       " 'first',\n",
       " 'again',\n",
       " 'in',\n",
       " 'whereupon',\n",
       " 'not',\n",
       " 'very',\n",
       " 'therein',\n",
       " '‘ve',\n",
       " 'behind',\n",
       " 'someone',\n",
       " 'where',\n",
       " 'until',\n",
       " 'between',\n",
       " 'formerly',\n",
       " 'former',\n",
       " 'somehow',\n",
       " 'except',\n",
       " 'sometime',\n",
       " 'her',\n",
       " 'before',\n",
       " 'while',\n",
       " 'thereby',\n",
       " 'ever',\n",
       " 'beyond',\n",
       " 'towards',\n",
       " 'why',\n",
       " 'nobody',\n",
       " 'due',\n",
       " 'us',\n",
       " 'seemed',\n",
       " 'been',\n",
       " 'above',\n",
       " 'ours',\n",
       " 'never',\n",
       " \"'ll\",\n",
       " 'himself',\n",
       " 'also',\n",
       " 'various',\n",
       " 'itself',\n",
       " 'herein',\n",
       " 'me',\n",
       " 'down',\n",
       " 'sometimes',\n",
       " \"'re\",\n",
       " '‘s',\n",
       " 'their',\n",
       " 'my',\n",
       " 'since',\n",
       " 'well',\n",
       " 'than',\n",
       " 'still',\n",
       " 'one',\n",
       " 'the',\n",
       " 'whatever',\n",
       " 'who',\n",
       " 'get',\n",
       " 'anyone',\n",
       " 'whenever',\n",
       " 'eleven',\n",
       " \"n't\",\n",
       " 'thereafter',\n",
       " 'here',\n",
       " 'whereafter',\n",
       " 'all',\n",
       " 'put',\n",
       " 'four',\n",
       " 'could',\n",
       " 'less',\n",
       " 'fifty',\n",
       " 'those',\n",
       " 'once',\n",
       " 'anyway',\n",
       " \"'m\",\n",
       " 'neither',\n",
       " 'become',\n",
       " 'this',\n",
       " 'anything',\n",
       " '‘m',\n",
       " 'whole',\n",
       " 'two',\n",
       " 'what',\n",
       " 'third',\n",
       " 'seeming',\n",
       " 'alone',\n",
       " \"'d\",\n",
       " 'go',\n",
       " 'to']"
      ]
     },
     "execution_count": 30,
     "metadata": {},
     "output_type": "execute_result"
    }
   ],
   "source": [
    "# List of stop words\n",
    "stopwords = list( STOP_WORDS)\n",
    "stopwords"
   ]
  },
  {
   "cell_type": "code",
   "execution_count": 31,
   "metadata": {},
   "outputs": [],
   "source": [
    "# pass document into spacy and store in \"doc\" object\n",
    "nlp = spacy.load('en_core_web_sm')\n",
    "doc = nlp(text)\n"
   ]
  },
  {
   "cell_type": "markdown",
   "metadata": {},
   "source": [
    "# What is Tokenization\n",
    "Tokenization is the process of tokenizing or splitting a string, text into a list of tokens.\n",
    "One can think of token as parts like a word is a token in a sentence, and a sentence is a token\n",
    "in a paragraph."
   ]
  },
  {
   "cell_type": "code",
   "execution_count": 32,
   "metadata": {},
   "outputs": [
    {
     "name": "stdout",
     "output_type": "stream",
     "text": [
      "['Analytical', 'marketing', ':', 'How', 'Turkcell', 'reduced', 'their', 'sales', 'cycle', 'from', 'weeks', 'to', 'days', '\\n', 'There', 'are', 'an', 'enormous', 'number', 'of', 'solutions', 'telecommunications', 'companies', 'can', 'provide', ',', 'but', 'most', 'customers', 'are', 'only', 'interested', 'in', 'a', 'select', 'few', '.', 'Analytical', 'marketing', 'is', 'the', 'practice', 'of', 'using', 'customer', 'data', 'to', 'identify', 'which', 'consumers', 'will', 'most', 'likely', 'benefit', 'from', 'which', 'products', '.', 'This', 'involves', 'using', 'consumer', 'information', 'to', 'create', 'microsegments', ',', 'or', 'personas', 'that', 'describe', 'smaller', 'sets', 'of', 'customers', 'rather', 'than', 'large', ',', 'big', '-', 'picture', 'details', '.', 'It', 'also', 'includes', 'detecting', 'specific', 'behaviors', 'that', 'prompt', 'a', 'new', 'product', 'offer', ',', 'such', 'as', 'suggesting', 'an', 'international', 'data', 'plan', 'to', 'a', 'customer', 'who', 'frequently', 'sends', 'texts', 'to', 'friends', 'in', 'other', 'countries', '.', '\\n\\n', 'The', 'first', 'step', 'in', 'leveraging', 'analytical', 'marketing', 'is', 'to', 'gather', 'data', '.', 'Companies', 'need', 'to', 'strike', 'a', 'balance', 'between', 'obtaining', 'high', '-', 'quality', ',', 'comprehensive', 'information', 'and', 'maintaining', 'trust', 'with', 'the', 'consumer', '.', '\\n\\n', 'With', 'the', 'increasing', 'capabilities', 'for', 'data', 'mining', ',', 'consumers', 'have', 'become', 'protective', 'of', 'their', 'personal', 'information', '.', 'Shady', 'practices', 'like', 'obtaining', 'and', 'using', 'data', 'without', 'notifying', 'the', 'customer', ',', 'or', 'selling', 'and', 'buying', 'information', 'from', 'third', '-', 'party', 'sources', 'have', 'left', 'consumers', 'scarred', 'and', 'wary', '.', '\\n\\n', 'Ironically', ',', 'consumers', 'also', 'become', 'frustrated', 'when', 'they', 'perceive', 'companies', 'to', 'not', 'have', 'a', 'good', 'understanding', 'of', 'their', 'needs', 'or', 'offer', 'random', 'products', 'rather', 'than', 'relevant', 'ones', '.', 'This', 'complex', 'dynamic', 'means', 'telecom', 'businesses', 'must', 'gather', 'high', '-', 'quality', 'information', ',', 'but', 'use', 'it', 'in', 'a', 'responsible', ',', 'transparent', 'way', '.', '\\n\\n', 'A', '2011', 'marketing', 'campaign', 'completed', 'by', 'Turkcell', ',', 'an', 'Istanbul', '-', 'based', 'cellphone', 'provider', ',', 'demonstrated', 'the', 'successful', 'use', 'of', 'consumer', 'data', '.', 'The', 'company', 'began', 'reviewing', 'customer', 'data', 'in', 'real', 'time', ',', 'allowing', 'them', 'to', 'better', 'identify', 'individuals', '’', 'needs', 'at', 'that', 'time', '.', 'As', 'a', 'result', ',', 'they', 'were', 'able', 'to', 'shorten', 'their', 'marketing', 'cycle', 'from', 'several', 'weeks', 'to', 'several', 'days', 'and', 'increase', 'revenue', 'by', '$', '15', 'million', 'that', 'year', ',', 'according', 'to', 'a', 'Strategy', '&', 'report', 'from', 'PwC.']\n"
     ]
    }
   ],
   "source": [
    "\n",
    "tokens = [token.text for token in doc]\n",
    "print(tokens)"
   ]
  },
  {
   "cell_type": "code",
   "execution_count": 33,
   "metadata": {},
   "outputs": [
    {
     "data": {
      "text/plain": [
       "'!\"#$%&\\'()*+,-./:;<=>?@[\\\\]^_`{|}~\\n\\n'"
      ]
     },
     "execution_count": 33,
     "metadata": {},
     "output_type": "execute_result"
    }
   ],
   "source": [
    "# add \\n to the punchuvation list\n",
    "punctuation = punctuation + '\\n' + '\\n\\n'\n",
    "punctuation"
   ]
  },
  {
   "cell_type": "markdown",
   "metadata": {},
   "source": [
    "# Preparing a dictionary for word frequencies \n"
   ]
  },
  {
   "cell_type": "code",
   "execution_count": 34,
   "metadata": {},
   "outputs": [
    {
     "name": "stdout",
     "output_type": "stream",
     "text": [
      "{'Analytical': 2, 'marketing': 5, 'Turkcell': 2, 'reduced': 1, 'sales': 1, 'cycle': 2, 'weeks': 2, 'days': 2, 'enormous': 1, 'number': 1, 'solutions': 1, 'telecommunications': 1, 'companies': 2, 'provide': 1, 'customers': 2, 'interested': 1, 'select': 1, 'practice': 1, 'customer': 4, 'data': 7, 'identify': 2, 'consumers': 4, 'likely': 1, 'benefit': 1, 'products': 2, 'involves': 1, 'consumer': 3, 'information': 5, 'create': 1, 'microsegments': 1, 'personas': 1, 'describe': 1, 'smaller': 1, 'sets': 1, 'large': 1, 'big': 1, 'picture': 1, 'details': 1, 'includes': 1, 'detecting': 1, 'specific': 1, 'behaviors': 1, 'prompt': 1, 'new': 1, 'product': 1, 'offer': 2, 'suggesting': 1, 'international': 1, 'plan': 1, 'frequently': 1, 'sends': 1, 'texts': 1, 'friends': 1, 'countries': 1, 'step': 1, 'leveraging': 1, 'analytical': 1, 'gather': 2, 'Companies': 1, 'need': 1, 'strike': 1, 'balance': 1, 'obtaining': 2, 'high': 2, 'quality': 2, 'comprehensive': 1, 'maintaining': 1, 'trust': 1, 'increasing': 1, 'capabilities': 1, 'mining': 1, 'protective': 1, 'personal': 1, 'Shady': 1, 'practices': 1, 'like': 1, 'notifying': 1, 'selling': 1, 'buying': 1, 'party': 1, 'sources': 1, 'left': 1, 'scarred': 1, 'wary': 1, 'Ironically': 1, 'frustrated': 1, 'perceive': 1, 'good': 1, 'understanding': 1, 'needs': 2, 'random': 1, 'relevant': 1, 'ones': 1, 'complex': 1, 'dynamic': 1, 'means': 1, 'telecom': 1, 'businesses': 1, 'use': 2, 'responsible': 1, 'transparent': 1, 'way': 1, '2011': 1, 'campaign': 1, 'completed': 1, 'Istanbul': 1, 'based': 1, 'cellphone': 1, 'provider': 1, 'demonstrated': 1, 'successful': 1, 'company': 1, 'began': 1, 'reviewing': 1, 'real': 1, 'time': 2, 'allowing': 1, 'better': 1, 'individuals': 1, '’': 1, 'result': 1, 'able': 1, 'shorten': 1, 'increase': 1, 'revenue': 1, '15': 1, 'million': 1, 'year': 1, 'according': 1, 'Strategy': 1, 'report': 1, 'PwC.': 1}\n"
     ]
    }
   ],
   "source": [
    "word_frequencies = {}                       // Dictionary Name\n",
    "for word in doc:\n",
    "    if word.text.lower() not in stopwords:\n",
    "        if word.text.lower() not in punctuation:\n",
    "            if word.text not in word_frequencies.keys():   \n",
    "                word_frequencies[word.text] = 1\n",
    "            else:\n",
    "                word_frequencies[word.text] +=1\n",
    "print(word_frequencies)                "
   ]
  },
  {
   "cell_type": "code",
   "execution_count": 35,
   "metadata": {},
   "outputs": [],
   "source": [
    "max_frequcncy = max(word_frequencies.values())"
   ]
  },
  {
   "cell_type": "markdown",
   "metadata": {},
   "source": [
    "# By creating a Dictionay for word and its normalized frequencies\n",
    "By creating a Dictionay for sentences and its normalized frequencies"
   ]
  },
  {
   "cell_type": "code",
   "execution_count": 36,
   "metadata": {},
   "outputs": [
    {
     "data": {
      "text/plain": [
       "7"
      ]
     },
     "execution_count": 36,
     "metadata": {},
     "output_type": "execute_result"
    }
   ],
   "source": [
    "# Maximum repeated word in the document seemd  - data\n",
    "max_frequcncy"
   ]
  },
  {
   "cell_type": "code",
   "execution_count": 37,
   "metadata": {},
   "outputs": [],
   "source": [
    "# Normalize the word frencies\n",
    "for word in word_frequencies.keys():\n",
    "    word_frequencies[word] = word_frequencies[word]/max_frequcncy"
   ]
  },
  {
   "cell_type": "code",
   "execution_count": 38,
   "metadata": {},
   "outputs": [
    {
     "name": "stdout",
     "output_type": "stream",
     "text": [
      "{'Analytical': 0.2857142857142857, 'marketing': 0.7142857142857143, 'Turkcell': 0.2857142857142857, 'reduced': 0.14285714285714285, 'sales': 0.14285714285714285, 'cycle': 0.2857142857142857, 'weeks': 0.2857142857142857, 'days': 0.2857142857142857, 'enormous': 0.14285714285714285, 'number': 0.14285714285714285, 'solutions': 0.14285714285714285, 'telecommunications': 0.14285714285714285, 'companies': 0.2857142857142857, 'provide': 0.14285714285714285, 'customers': 0.2857142857142857, 'interested': 0.14285714285714285, 'select': 0.14285714285714285, 'practice': 0.14285714285714285, 'customer': 0.5714285714285714, 'data': 1.0, 'identify': 0.2857142857142857, 'consumers': 0.5714285714285714, 'likely': 0.14285714285714285, 'benefit': 0.14285714285714285, 'products': 0.2857142857142857, 'involves': 0.14285714285714285, 'consumer': 0.42857142857142855, 'information': 0.7142857142857143, 'create': 0.14285714285714285, 'microsegments': 0.14285714285714285, 'personas': 0.14285714285714285, 'describe': 0.14285714285714285, 'smaller': 0.14285714285714285, 'sets': 0.14285714285714285, 'large': 0.14285714285714285, 'big': 0.14285714285714285, 'picture': 0.14285714285714285, 'details': 0.14285714285714285, 'includes': 0.14285714285714285, 'detecting': 0.14285714285714285, 'specific': 0.14285714285714285, 'behaviors': 0.14285714285714285, 'prompt': 0.14285714285714285, 'new': 0.14285714285714285, 'product': 0.14285714285714285, 'offer': 0.2857142857142857, 'suggesting': 0.14285714285714285, 'international': 0.14285714285714285, 'plan': 0.14285714285714285, 'frequently': 0.14285714285714285, 'sends': 0.14285714285714285, 'texts': 0.14285714285714285, 'friends': 0.14285714285714285, 'countries': 0.14285714285714285, 'step': 0.14285714285714285, 'leveraging': 0.14285714285714285, 'analytical': 0.14285714285714285, 'gather': 0.2857142857142857, 'Companies': 0.14285714285714285, 'need': 0.14285714285714285, 'strike': 0.14285714285714285, 'balance': 0.14285714285714285, 'obtaining': 0.2857142857142857, 'high': 0.2857142857142857, 'quality': 0.2857142857142857, 'comprehensive': 0.14285714285714285, 'maintaining': 0.14285714285714285, 'trust': 0.14285714285714285, 'increasing': 0.14285714285714285, 'capabilities': 0.14285714285714285, 'mining': 0.14285714285714285, 'protective': 0.14285714285714285, 'personal': 0.14285714285714285, 'Shady': 0.14285714285714285, 'practices': 0.14285714285714285, 'like': 0.14285714285714285, 'notifying': 0.14285714285714285, 'selling': 0.14285714285714285, 'buying': 0.14285714285714285, 'party': 0.14285714285714285, 'sources': 0.14285714285714285, 'left': 0.14285714285714285, 'scarred': 0.14285714285714285, 'wary': 0.14285714285714285, 'Ironically': 0.14285714285714285, 'frustrated': 0.14285714285714285, 'perceive': 0.14285714285714285, 'good': 0.14285714285714285, 'understanding': 0.14285714285714285, 'needs': 0.2857142857142857, 'random': 0.14285714285714285, 'relevant': 0.14285714285714285, 'ones': 0.14285714285714285, 'complex': 0.14285714285714285, 'dynamic': 0.14285714285714285, 'means': 0.14285714285714285, 'telecom': 0.14285714285714285, 'businesses': 0.14285714285714285, 'use': 0.2857142857142857, 'responsible': 0.14285714285714285, 'transparent': 0.14285714285714285, 'way': 0.14285714285714285, '2011': 0.14285714285714285, 'campaign': 0.14285714285714285, 'completed': 0.14285714285714285, 'Istanbul': 0.14285714285714285, 'based': 0.14285714285714285, 'cellphone': 0.14285714285714285, 'provider': 0.14285714285714285, 'demonstrated': 0.14285714285714285, 'successful': 0.14285714285714285, 'company': 0.14285714285714285, 'began': 0.14285714285714285, 'reviewing': 0.14285714285714285, 'real': 0.14285714285714285, 'time': 0.2857142857142857, 'allowing': 0.14285714285714285, 'better': 0.14285714285714285, 'individuals': 0.14285714285714285, '’': 0.14285714285714285, 'result': 0.14285714285714285, 'able': 0.14285714285714285, 'shorten': 0.14285714285714285, 'increase': 0.14285714285714285, 'revenue': 0.14285714285714285, '15': 0.14285714285714285, 'million': 0.14285714285714285, 'year': 0.14285714285714285, 'according': 0.14285714285714285, 'Strategy': 0.14285714285714285, 'report': 0.14285714285714285, 'PwC.': 0.14285714285714285}\n"
     ]
    }
   ],
   "source": [
    "print(word_frequencies)"
   ]
  },
  {
   "cell_type": "markdown",
   "metadata": {},
   "source": [
    "# Sentence Tokenization"
   ]
  },
  {
   "cell_type": "code",
   "execution_count": 39,
   "metadata": {},
   "outputs": [
    {
     "name": "stdout",
     "output_type": "stream",
     "text": [
      "[Analytical marketing:, How Turkcell reduced their sales cycle from weeks to days\n",
      ", There are an enormous number of solutions telecommunications companies can provide, but most customers are only interested in a select few., Analytical marketing is the practice of using customer data to identify which consumers will most likely benefit from which products., This involves using consumer information to create microsegments, or personas that describe smaller sets of customers rather than large, big-picture details., It also includes detecting specific behaviors that prompt a new product offer, such as suggesting an international data plan to a customer who frequently sends texts to friends in other countries.\n",
      "\n",
      ", The first step in leveraging analytical marketing is to gather data., Companies need to strike a balance between obtaining high-quality, comprehensive information and maintaining trust with the consumer.\n",
      "\n",
      ", With the increasing capabilities for data mining, consumers have become protective of their personal information., Shady practices like obtaining and using data without notifying the customer, or selling and buying information from third-party sources have left consumers scarred and wary.\n",
      "\n",
      ", Ironically, consumers also become frustrated when they perceive companies to not have a good understanding of their needs or offer random products rather than relevant ones., This complex dynamic means telecom businesses must gather high-quality information, but use it in a responsible, transparent way.\n",
      "\n",
      ", A 2011 marketing campaign completed by Turkcell, an Istanbul-based cellphone provider, demonstrated the successful use of consumer data., The company began reviewing customer data in real time, allowing them to better identify individuals’ needs at that time., As a result, they were able to shorten their marketing cycle from several weeks to several days and increase revenue by $15 million that year, according to a Strategy& report from PwC.]\n"
     ]
    }
   ],
   "source": [
    "sentence_tokens = [sent for sent in doc.sents]\n",
    "print(sentence_tokens)"
   ]
  },
  {
   "cell_type": "markdown",
   "metadata": {},
   "source": [
    "# Calculate sentences scores\n",
    "By creating a Dictionay for sentences and its normalized frequencies"
   ]
  },
  {
   "cell_type": "code",
   "execution_count": 40,
   "metadata": {},
   "outputs": [
    {
     "data": {
      "text/plain": [
       "{Analytical marketing:: 0.8571428571428572,\n",
       " How Turkcell reduced their sales cycle from weeks to days: 1.1428571428571428,\n",
       " There are an enormous number of solutions telecommunications companies can provide, but most customers are only interested in a select few.: 1.5714285714285712,\n",
       " Analytical marketing is the practice of using customer data to identify which consumers will most likely benefit from which products.: 3.999999999999999,\n",
       " This involves using consumer information to create microsegments, or personas that describe smaller sets of customers rather than large, big-picture details.: 2.999999999999999,\n",
       " It also includes detecting specific behaviors that prompt a new product offer, such as suggesting an international data plan to a customer who frequently sends texts to friends in other countries.\n",
       " : 3.9999999999999996,\n",
       " The first step in leveraging analytical marketing is to gather data.: 2.4285714285714284,\n",
       " Companies need to strike a balance between obtaining high-quality, comprehensive information and maintaining trust with the consumer.\n",
       " : 3.1428571428571423,\n",
       " With the increasing capabilities for data mining, consumers have become protective of their personal information.: 3.0,\n",
       " Shady practices like obtaining and using data without notifying the customer, or selling and buying information from third-party sources have left consumers scarred and wary.\n",
       " : 4.571428571428572,\n",
       " Ironically, consumers also become frustrated when they perceive companies to not have a good understanding of their needs or offer random products rather than relevant ones.: 2.7142857142857135,\n",
       " This complex dynamic means telecom businesses must gather high-quality information, but use it in a responsible, transparent way.\n",
       " : 2.9999999999999996,\n",
       " A 2011 marketing campaign completed by Turkcell, an Istanbul-based cellphone provider, demonstrated the successful use of consumer data.: 3.5714285714285707,\n",
       " The company began reviewing customer data in real time, allowing them to better identify individuals’ needs at that time.: 3.8571428571428563,\n",
       " As a result, they were able to shorten their marketing cycle from several weeks to several days and increase revenue by $15 million that year, according to a Strategy& report from PwC.: 2.999999999999999}"
      ]
     },
     "execution_count": 40,
     "metadata": {},
     "output_type": "execute_result"
    }
   ],
   "source": [
    "sentence_scores = {}                                            //create Dictionary\n",
    "for sent in sentence_tokens:\n",
    "    for word in sent:\n",
    "        if word.text.lower() in word_frequencies.keys():        \n",
    "            if sent not in sentence_scores.keys():              //add word normalized frequencies count in each of these sentences,then with maximum value we are going to find important sentence \n",
    "                sentence_scores[sent] = word_frequencies[word.text.lower()]\n",
    "            else:\n",
    "                sentence_scores[sent] += word_frequencies[word.text.lower()]\n",
    "sentence_scores              "
   ]
  },
  {
   "cell_type": "code",
   "execution_count": 41,
   "metadata": {},
   "outputs": [
    {
     "data": {
      "text/plain": [
       "4"
      ]
     },
     "execution_count": 41,
     "metadata": {},
     "output_type": "execute_result"
    }
   ],
   "source": [
    "# Can tweek percentage\n",
    "# Get 30% of important sentences with maximum score - using nlargest\n",
    "from heapq import nlargest\n",
    "select_length = int(len(sentence_tokens)*0.3)\n",
    "select_length"
   ]
  },
  {
   "cell_type": "code",
   "execution_count": 42,
   "metadata": {},
   "outputs": [
    {
     "data": {
      "text/plain": [
       "[Shady practices like obtaining and using data without notifying the customer, or selling and buying information from third-party sources have left consumers scarred and wary.\n",
       " ,\n",
       " It also includes detecting specific behaviors that prompt a new product offer, such as suggesting an international data plan to a customer who frequently sends texts to friends in other countries.\n",
       " ,\n",
       " Analytical marketing is the practice of using customer data to identify which consumers will most likely benefit from which products.,\n",
       " The company began reviewing customer data in real time, allowing them to better identify individuals’ needs at that time.]"
      ]
     },
     "execution_count": 42,
     "metadata": {},
     "output_type": "execute_result"
    }
   ],
   "source": [
    "\n",
    "summary = nlargest(select_length , sentence_scores , key = sentence_scores.get)\n",
    "summary   # Got 4 important sentences\n"
   ]
  },
  {
   "cell_type": "code",
   "execution_count": 43,
   "metadata": {},
   "outputs": [
    {
     "data": {
      "text/plain": [
       "['Shady practices like obtaining and using data without notifying the customer, or selling and buying information from third-party sources have left consumers scarred and wary.\\n\\n',\n",
       " 'It also includes detecting specific behaviors that prompt a new product offer, such as suggesting an international data plan to a customer who frequently sends texts to friends in other countries.\\n\\n',\n",
       " 'Analytical marketing is the practice of using customer data to identify which consumers will most likely benefit from which products.',\n",
       " 'The company began reviewing customer data in real time, allowing them to better identify individuals’ needs at that time.']"
      ]
     },
     "execution_count": 43,
     "metadata": {},
     "output_type": "execute_result"
    }
   ],
   "source": [
    "final_summary = [word.text for word in summary]\n",
    "final_summary "
   ]
  },
  {
   "cell_type": "code",
   "execution_count": 47,
   "metadata": {},
   "outputs": [
    {
     "data": {
      "text/plain": [
       "4"
      ]
     },
     "execution_count": 47,
     "metadata": {},
     "output_type": "execute_result"
    }
   ],
   "source": [
    "len(final_summary)"
   ]
  },
  {
   "cell_type": "code",
   "execution_count": 46,
   "metadata": {},
   "outputs": [],
   "source": [
    "#combining above 4 lines togeather to from a summary\n",
    "summary = ' ' .join(final_summary)"
   ]
  },
  {
   "cell_type": "code",
   "execution_count": 48,
   "metadata": {},
   "outputs": [
    {
     "data": {
      "text/plain": [
       "'Shady practices like obtaining and using data without notifying the customer, or selling and buying information from third-party sources have left consumers scarred and wary.\\n\\n It also includes detecting specific behaviors that prompt a new product offer, such as suggesting an international data plan to a customer who frequently sends texts to friends in other countries.\\n\\n Analytical marketing is the practice of using customer data to identify which consumers will most likely benefit from which products. The company began reviewing customer data in real time, allowing them to better identify individuals’ needs at that time.'"
      ]
     },
     "execution_count": 48,
     "metadata": {},
     "output_type": "execute_result"
    }
   ],
   "source": [
    "summary"
   ]
  },
  {
   "cell_type": "code",
   "execution_count": 49,
   "metadata": {},
   "outputs": [
    {
     "name": "stdout",
     "output_type": "stream",
     "text": [
      "length of original text: 1952\n",
      "length of autosummarization text 631\n"
     ]
    }
   ],
   "source": [
    "print(\"length of original text:\",len(text))\n",
    "print(\"length of autosummarization text\",len(summary))\n"
   ]
  },
  {
   "cell_type": "code",
   "execution_count": null,
   "metadata": {},
   "outputs": [],
   "source": []
  },
  {
   "cell_type": "code",
   "execution_count": null,
   "metadata": {},
   "outputs": [],
   "source": []
  }
 ],
 "metadata": {
  "kernelspec": {
   "display_name": "Python 3",
   "language": "python",
   "name": "python3"
  },
  "language_info": {
   "codemirror_mode": {
    "name": "ipython",
    "version": 3
   },
   "file_extension": ".py",
   "mimetype": "text/x-python",
   "name": "python",
   "nbconvert_exporter": "python",
   "pygments_lexer": "ipython3",
   "version": "3.7.2"
  }
 },
 "nbformat": 4,
 "nbformat_minor": 2
}
